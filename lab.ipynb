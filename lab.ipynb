{
 "cells": [
  {
   "cell_type": "markdown",
   "metadata": {},
   "source": [
    "# Лаборатроная работа №1\n",
    "1. Длина паузы (Не бинарный классификатор)\n",
    "2. Ударное ли слово (Бинарный классификатор)\n",
    "\n",
    "# Этапы:\n",
    "1. Получить статистику корпуса\n",
    "2. Балансировка датасета (слов без пауз больше, чем слов с паузами)\n",
    "3. Извлечь разные признаки, посмотреть варианты\n",
    "4. Обучить модели и получить метрики"
   ]
  },
  {
   "cell_type": "code",
   "execution_count": 1,
   "metadata": {},
   "outputs": [],
   "source": [
    "import matplotlib.pyplot as plt\n",
    "import numpy as np\n",
    "from sklearn.model_selection import train_test_split"
   ]
  },
  {
   "cell_type": "code",
   "execution_count": 14,
   "metadata": {},
   "outputs": [],
   "source": [
    "from bs4 import BeautifulSoup\n",
    "\n",
    "with open('Text.xml', 'r') as f:\n",
    "\tfile = f.read()\n",
    "\n",
    "soup = BeautifulSoup(file, 'xml')"
   ]
  },
  {
   "cell_type": "code",
   "execution_count": 15,
   "metadata": {},
   "outputs": [
    {
     "name": "stdout",
     "output_type": "stream",
     "text": [
      "[511, 3559, 6225, 5418, 2116, 2103, 2384, 2279, 117]\n"
     ]
    },
    {
     "data": {
      "text/plain": [
       "<BarContainer object of 9 artists>"
      ]
     },
     "execution_count": 15,
     "metadata": {},
     "output_type": "execute_result"
    },
    {
     "data": {
      "image/png": "[encoded data removed]",
      "text/plain": [
       "<Figure size 640x480 with 1 Axes>"
      ]
     },
     "metadata": {},
     "output_type": "display_data"
    }
   ],
   "source": [
    "#\n",
    "\n",
    "\n",
    "word_arr = [0,0,0,0,0,0,0,0,0]\n",
    "pauses_arr = []\n",
    "\n",
    "sentences = soup.find_all('sentence')\n",
    "\n",
    "for sentence in sentences:\n",
    "    for child in sentence.children:\n",
    "        if child.name == 'pause':\n",
    "            time_var = int(child.get('time'))\n",
    "            if time_var <= 100:\n",
    "                word_arr[0] += 1\n",
    "            elif time_var <= 200:\n",
    "                word_arr[1] += 1\n",
    "            elif time_var <= 300:\n",
    "                word_arr[2] += 1\n",
    "            elif time_var <= 400:\n",
    "                word_arr[3] += 1\n",
    "            elif time_var <= 500:\n",
    "                word_arr[4] += 1\n",
    "            elif time_var <= 600:\n",
    "                word_arr[5] += 1\n",
    "            elif time_var <= 700:\n",
    "                word_arr[6] += 1\n",
    "            elif time_var <= 800:\n",
    "                word_arr[7] += 1\n",
    "            elif time_var > 800:\n",
    "                word_arr[8] += 1\n",
    "                \n",
    "            \n",
    "            pauses_arr.append(child.get('time'))\n",
    "            \n",
    "\n",
    "len(pauses_arr)           \n",
    "print(word_arr)\n",
    "#plt.hist(word_arr)\n",
    "# show plot bar with small size of text\n",
    "\n",
    "plt.bar(['0-100', '100-200', '200-300', '300-400', '400-500', '500-600', '600-700', '700-800', '800+'], word_arr)"
   ]
  },
  {
   "cell_type": "markdown",
   "metadata": {},
   "source": [
    "#Функция для получения признаков"
   ]
  },
  {
   "cell_type": "code",
   "execution_count": 9,
   "metadata": {},
   "outputs": [],
   "source": [
    "def word_features(word):\n",
    "    f_dict = {}\n",
    "    f_dict[\"word\"] = word.get('original')\n",
    "    \n",
    "    #count words in sentence\n",
    "    f_dict['count_words'] = 0\n",
    "    \n",
    "    #content features\n",
    "    content = word.previous_sibling\n",
    "    \n",
    "    f_dict['PunktEnd'] = int(content.get('PunktEnd')) if content.get('PunktEnd') else content.get('PunktEnd')\n",
    "    f_dict['PunktBeg'] = int(content.get('PunktBeg')) if content.get('PunktBeg') else content.get('PunktBeg')\n",
    "    f_dict['EmphEnd'] = int(content.get('EmphEnd')) if content.get('EmphEnd') else content.get('EmphEnd')\n",
    "    f_dict['EmphBeg'] = int(content.get('EmphBeg')) if content.get('EmphBeg') else content.get('EmphBeg')\n",
    "    \n",
    "    #language features\n",
    "    letter = [ltr.get('char') for ltr in word.find_all('letter')]\n",
    "    f_dict['letter_len'] = len(letter)\n",
    "    f_dict['vowels'] = sum([ltr in 'ауоыиэяюёе' for ltr in letter])\n",
    "    f_dict['is_yo'] = 1 if 'ё' in letter else 0\n",
    "    if f_dict['letter_len'] > 0:\n",
    "        f_dict['vowels_ratio'] = f_dict['vowels'] / f_dict['letter_len']\n",
    "    else:\n",
    "        f_dict['vowels_ratio'] = 0\n",
    "    \n",
    "    if f_dict['word']:\n",
    "        f_dict['capital'] = 1 if f_dict[\"word\"][0].isupper() else 0\n",
    "    else:\n",
    "        f_dict['capital'] = 0\n",
    "    \n",
    "    \n",
    "    #dictitem features\n",
    "    dict_item = word.find('dictitem')\n",
    "    f_dict['form'] = int(dict_item.get('form'))\n",
    "    f_dict['genesys'] = int(dict_item.get('genesys'))\n",
    "    sem1 = dict_item.get('semantics1')\n",
    "    sem2 = dict_item.get('semantics2')\n",
    "    f_dict['semantics1'] = int(sem1) if sem1 else sem1\n",
    "    f_dict['semantics2'] = int(sem2) if sem2 else sem2\n",
    "    f_dict['subpart_of_speech'] = int(dict_item.get('subpart_of_speech'))\n",
    "    \n",
    "    #pause features\n",
    "    f_dict['pause'] = 0\n",
    "    f_dict['pause_time'] = -1\n",
    "    \n",
    "    #stress features\n",
    "    if word.get('nucleus'):\n",
    "        f_dict['phrasal_stress'] = 1\n",
    "    else:\n",
    "        f_dict['phrasal_stress'] = 0\n",
    "    \n",
    "    return f_dict"
   ]
  },
  {
   "cell_type": "code",
   "execution_count": 16,
   "metadata": {},
   "outputs": [],
   "source": [
    "words_arr = []\n",
    "pauses_arr = []\n",
    "sentences = soup.find_all('sentence')\n",
    "\n",
    "for sentence in sentences:\n",
    "    len_words = 0\n",
    "    for child in sentence.children:\n",
    "        if child.name == 'word':\n",
    "            words_arr.append(word_features(child))\n",
    "            words_arr[-1]['count_words'] = len_words\n",
    "            len_words += 1\n",
    "        if child.name == 'pause':\n",
    "            words_arr[-1]['pause'] = 1\n",
    "            words_arr[-1]['pause_time'] = int(child.get('time'))\n",
    "    "
   ]
  },
  {
   "cell_type": "code",
   "execution_count": 21,
   "metadata": {},
   "outputs": [
    {
     "name": "stdout",
     "output_type": "stream",
     "text": [
      "94962\n",
      "25696\n"
     ]
    },
    {
     "data": {
      "text/plain": [
       "<BarContainer object of 2 artists>"
      ]
     },
     "execution_count": 21,
     "metadata": {},
     "output_type": "execute_result"
    },
    {
     "data": {
      "image/png": "[encoded data removed]",
      "text/plain": [
       "<Figure size 640x480 with 1 Axes>"
      ]
     },
     "metadata": {},
     "output_type": "display_data"
    }
   ],
   "source": [
    "count = 0\n",
    "for i in words_arr:\n",
    "    if i['phrasal_stress']:\n",
    "        count += 1\n",
    "print(len(words_arr))\n",
    "print(count)\n",
    "plt.bar(['nuclear','not nuclear'], [len(words_arr) - count, count])"
   ]
  },
  {
   "cell_type": "markdown",
   "metadata": {},
   "source": [
    "#Классификация для ядерного слова"
   ]
  },
  {
   "cell_type": "code",
   "execution_count": 22,
   "metadata": {},
   "outputs": [
    {
     "name": "stdout",
     "output_type": "stream",
     "text": [
      "[0.         0.         9.         1.         1.         3.\n",
      " 0.33333333 1.                nan        nan        nan        nan\n",
      " 0.        ]\n"
     ]
    }
   ],
   "source": [
    "X = []\n",
    "y = []\n",
    "for word in words_arr:\n",
    "    X.append([word['form'], word['genesys'], word['subpart_of_speech'], word['phrasal_stress'], \n",
    "              word['capital'],word['letter_len'], word['vowels_ratio'],word['vowels'], word['EmphBeg'], \n",
    "              word['EmphEnd'], word['PunktBeg'], word['PunktEnd'],word['is_yo']])\n",
    "    y.append(word['phrasal_stress'])\n",
    "X_train, X_test, y_train, y_test = train_test_split(X, y, test_size=0.2,shuffle=False)\n",
    "print(np.array(X_train[0],dtype=np.float64))"
   ]
  },
  {
   "cell_type": "code",
   "execution_count": 23,
   "metadata": {},
   "outputs": [
    {
     "name": "stdout",
     "output_type": "stream",
     "text": [
      "{'word': 'альбомчик', 'count_words': 6, 'PunktEnd': None, 'PunktBeg': None, 'EmphEnd': None, 'EmphBeg': None, 'letter_len': 9, 'vowels': 3, 'is_yo': 0, 'vowels_ratio': 0.3333333333333333, 'capital': 0, 'form': 5, 'genesys': 4, 'semantics1': None, 'semantics2': None, 'subpart_of_speech': 1, 'pause': 1, 'pause_time': 364, 'phrasal_stress': 1}\n"
     ]
    }
   ],
   "source": [
    "word_train, word_test = train_test_split(words_arr, test_size=0.2,shuffle=False)\n",
    "print(word_test[0])"
   ]
  },
  {
   "cell_type": "code",
   "execution_count": 24,
   "metadata": {},
   "outputs": [],
   "source": [
    "from sklearn.ensemble import HistGradientBoostingClassifier\n",
    "\n",
    "model = HistGradientBoostingClassifier().fit(X_train, y_train)\n"
   ]
  },
  {
   "cell_type": "code",
   "execution_count": 25,
   "metadata": {},
   "outputs": [
    {
     "name": "stdout",
     "output_type": "stream",
     "text": [
      "(18993,)\n",
      "1.0\n",
      "              precision    recall  f1-score   support\n",
      "\n",
      "           0       1.00      1.00      1.00     13956\n",
      "           1       1.00      1.00      1.00      5037\n",
      "\n",
      "    accuracy                           1.00     18993\n",
      "   macro avg       1.00      1.00      1.00     18993\n",
      "weighted avg       1.00      1.00      1.00     18993\n",
      "\n"
     ]
    }
   ],
   "source": [
    "import numpy as np\n",
    "from sklearn.metrics import f1_score\n",
    "from sklearn.metrics import recall_score\n",
    "from sklearn.metrics import classification_report\n",
    "\n",
    "pred_stress = model.predict(X_test)\n",
    "\n",
    "print(np.shape(pred_stress))\n",
    "\n",
    "print(np.mean(pred_stress == y_test))\n",
    "print(classification_report(y_test, pred_stress, labels=[0, 1]))\n",
    "pred_stress = [True if i == 1 else False for i in pred_stress]"
   ]
  },
  {
   "cell_type": "markdown",
   "metadata": {},
   "source": [
    "#Регрессия для длины паузы"
   ]
  },
  {
   "cell_type": "code",
   "execution_count": null,
   "metadata": {},
   "outputs": [],
   "source": [
    "def label_encoder(value, ms = 50):\n",
    "    return 0 if value == -1 else (int(value / ms) + 1)"
   ]
  },
  {
   "cell_type": "code",
   "execution_count": 26,
   "metadata": {},
   "outputs": [],
   "source": [
    "X = []\n",
    "y = np.array([])\n",
    "for word in words_arr:\n",
    "    temp_x = [word['form'], word['genesys'], word['subpart_of_speech'], word['phrasal_stress'], \n",
    "              word['capital'],word['letter_len'], word['vowels_ratio'],word['vowels'],word['pause'],\n",
    "              word['EmphBeg'],word['EmphEnd'], word['PunktBeg'], word['PunktEnd']]\n",
    "    X.append(temp_x)\n",
    "    y = np.append(y,word['pause_time'])\n",
    "#y = np.where(y == -1, 0, y)\n",
    "#y = y / 2150\n",
    "    \n",
    "    \n",
    "X_train, X_test, y_train, y_test = train_test_split(X, y, test_size=0.2,shuffle=False)"
   ]
  },
  {
   "cell_type": "code",
   "execution_count": 27,
   "metadata": {},
   "outputs": [],
   "source": [
    "from sklearn.ensemble import HistGradientBoostingRegressor\n",
    "\n",
    "est = HistGradientBoostingRegressor().fit(X_train, y_train)"
   ]
  },
  {
   "cell_type": "code",
   "execution_count": 32,
   "metadata": {},
   "outputs": [
    {
     "name": "stdout",
     "output_type": "stream",
     "text": [
      "[364.  -1.  -1.  -1.  -1.  -1. 602.  -1.  -1.  -1.  -1.  -1.  -1.  -1.\n",
      "  -1. 120.  -1. 648.  -1.  -1.  -1.  -1.  -1.  -1. 299.  -1.  -1.  -1.\n",
      "  -1.  -1.  -1. 202.  -1.  -1.  -1.  -1. 276.  -1.  -1. 367.  -1.  -1.\n",
      "  -1.  -1. 276.  -1.  -1.  -1. 331.  -1.  -1.  -1.  -1.  -1.  -1.  -1.\n",
      "  -1. 377.  -1.  -1.  -1.  -1. 800.  -1.  -1.  -1.  -1.  -1.  -1.  -1.\n",
      "  -1. 296.  -1. 356.  -1. 178. 236.  -1.  -1.  -1.  -1. 295.  -1.  -1.\n",
      " 633.  -1.  -1.  -1.  -1.  -1. 332.  -1.  -1.  -1.  -1.  -1. 271.  -1.\n",
      "  -1.  -1.]\n",
      "29.099830412440458\n",
      "0.736797767598589\n",
      "0.736797767598589\n",
      "0.736797767598589\n"
     ]
    }
   ],
   "source": [
    "from sklearn.metrics import mean_absolute_error\n",
    "from sklearn.metrics import f1_score\n",
    "from sklearn.metrics import recall_score\n",
    "from sklearn.metrics import precision_score\n",
    "\n",
    "pred_pause_len = est.predict(X_test)\n",
    "\n",
    "print(mean_absolute_error(y_test, pred_pause_len))\n",
    "\n",
    "pred_pause_len = np.array([int(i) for i in pred_pause_len])\n",
    "pred_pause_len = np.where(pred_pause_len == 0, -1, pred_pause_len)\n",
    "\n",
    "print(f1_score(y_test, pred_pause_len, average='micro'))\n",
    "print(recall_score(y_test, pred_pause_len, average='micro'))\n",
    "print(precision_score(y_test, pred_pause_len, average='micro'))"
   ]
  },
  {
   "cell_type": "markdown",
   "metadata": {},
   "source": [
    "#Генерируем JSON file"
   ]
  },
  {
   "cell_type": "code",
   "execution_count": 13,
   "metadata": {},
   "outputs": [],
   "source": [
    "import json\n",
    "\n",
    "res_arr = []\n",
    "dict_words = [{'words':[]}]\n",
    "for count, word in enumerate(word_test):\n",
    "    if word['count_words'] == 0:\n",
    "        res_arr.append(dict_words)\n",
    "        dict_words = []\n",
    "        dict_word = {'words':[]}\n",
    "        original = word['word']\n",
    "        word_content = {'content':original, 'phrasal_stress':pred_stress[count],\"pause_len\":int(pred_pause_len[count])}\n",
    "        dict_word['words'].append(word_content)\n",
    "        dict_words.append(dict_word) \n",
    "    else:\n",
    "        original = word['word']\n",
    "        word_content = {'content':original, 'phrasal_stress':pred_stress[count],\"pause_len\":int(pred_pause_len[count])}\n",
    "        dict_words[-1]['words'].append(word_content)\n",
    "        \n",
    "out = []\n",
    "for sublist in res_arr:\n",
    "    out.extend(sublist)\n",
    "\n",
    "\n",
    "dictionary = [{'words':[{'content':2,'phrasal_stress':-1,\"pause_len\":100},\n",
    "                       {'content':3,'phrasal_stress':-1,\"pause_len\":100}]}]\n",
    "jsonString = json.dumps(out, indent=4,ensure_ascii=False)\n",
    "jsonFile = open(\"data.json\", \"w\")\n",
    "jsonFile.write(jsonString)\n",
    "jsonFile.close()"
   ]
  }
 ],
 "metadata": {
  "kernelspec": {
   "display_name": "Python 3.8.10 64-bit",
   "language": "python",
   "name": "python3"
  },
  "language_info": {
   "codemirror_mode": {
    "name": "ipython",
    "version": 3
   },
   "file_extension": ".py",
   "mimetype": "text/x-python",
   "name": "python",
   "nbconvert_exporter": "python",
   "pygments_lexer": "ipython3",
   "version": "3.10.4"
  },
  "orig_nbformat": 4,
  "vscode": {
   "interpreter": {
    "hash": "916dbcbb3f70747c44a77c7bcd40155683ae19c65e1c03b4aa3499c5328201f1"
   }
  }
 },
 "nbformat": 4,
 "nbformat_minor": 2
}
